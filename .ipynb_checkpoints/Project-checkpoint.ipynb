{
 "cells": [
  {
   "cell_type": "code",
   "execution_count": 1,
   "id": "a97c2151-75f2-4bc6-88ba-56ffd6e4bf19",
   "metadata": {},
   "outputs": [
    {
     "name": "stdout",
     "output_type": "stream",
     "text": [
      "\u001b[42m[ OK ]\u001b[0m Python version is 3.12.5\n",
      "\n",
      "\u001b[42m[ OK ]\u001b[0m numpy version 1.26.4 is installed.\n",
      "\u001b[42m[ OK ]\u001b[0m matplotlib version 3.9.2 is installed.\n",
      "\u001b[42m[ OK ]\u001b[0m sklearn version 1.5.1 is installed.\n",
      "\u001b[42m[ OK ]\u001b[0m pandas version 2.2.2 is installed.\n",
      "\u001b[42m[ OK ]\u001b[0m xgboost version 2.1.1 is installed.\n",
      "\u001b[42m[ OK ]\u001b[0m shap version 0.45.1 is installed.\n",
      "\u001b[42m[ OK ]\u001b[0m plotly version 5.23.0 is installed.\n"
     ]
    }
   ],
   "source": [
    "from __future__ import print_function\n",
    "from packaging.version import parse as Version\n",
    "from platform import python_version\n",
    "\n",
    "OK = '\\x1b[42m[ OK ]\\x1b[0m'\n",
    "FAIL = \"\\x1b[41m[FAIL]\\x1b[0m\"\n",
    "\n",
    "try:\n",
    "    import importlib\n",
    "except ImportError:\n",
    "    print(FAIL, \"Python version 3.12 is required,\"\n",
    "                \" but %s is installed.\" % sys.version)\n",
    "\n",
    "def import_version(pkg, min_ver, fail_msg=\"\"):\n",
    "    mod = None\n",
    "    try:\n",
    "        mod = importlib.import_module(pkg)\n",
    "        if pkg in {'PIL'}:\n",
    "            ver = mod.VERSION\n",
    "        else:\n",
    "            ver = mod.__version__\n",
    "        if Version(ver) == Version(min_ver):\n",
    "            print(OK, \"%s version %s is installed.\"\n",
    "                  % (lib, min_ver))\n",
    "        else:\n",
    "            print(FAIL, \"%s version %s is required, but %s installed.\"\n",
    "                  % (lib, min_ver, ver))    \n",
    "    except ImportError:\n",
    "        print(FAIL, '%s not installed. %s' % (pkg, fail_msg))\n",
    "    return mod\n",
    "\n",
    "\n",
    "# first check the python version\n",
    "pyversion = Version(python_version())\n",
    "\n",
    "if pyversion >= Version(\"3.12.5\"):\n",
    "    print(OK, \"Python version is %s\" % pyversion)\n",
    "elif pyversion < Version(\"3.12.5\"):\n",
    "    print(FAIL, \"Python version 3.12.5 is required,\"\n",
    "                \" but %s is installed.\" % pyversion)\n",
    "else:\n",
    "    print(FAIL, \"Unknown Python version: %s\" % pyversion)\n",
    "\n",
    "    \n",
    "print()\n",
    "requirements = {'numpy': \"1.26.4\", 'matplotlib': \"3.9.2\",'sklearn': \"1.5.1\", \n",
    "                'pandas': \"2.2.2\",'xgboost': \"2.1.1\", 'shap': \"0.45.1\", \n",
    "                'plotly': \"5.23.0\"}\n",
    "\n",
    "# now the dependencies\n",
    "for lib, required_version in list(requirements.items()):\n",
    "    import_version(lib, required_version)"
   ]
  },
  {
   "cell_type": "code",
   "execution_count": 2,
   "id": "621a7234-cf9e-4d29-811e-e20e45be887f",
   "metadata": {},
   "outputs": [
    {
     "name": "stdout",
     "output_type": "stream",
     "text": [
      "        id full_name   age      gender device_type ad_position  \\\n",
      "0      670   User670  22.0         NaN     Desktop         Top   \n",
      "1     3044  User3044   NaN        Male     Desktop         Top   \n",
      "2     5912  User5912  41.0  Non-Binary         NaN        Side   \n",
      "3     5418  User5418  34.0        Male         NaN         NaN   \n",
      "4     9452  User9452  39.0  Non-Binary         NaN         NaN   \n",
      "...    ...       ...   ...         ...         ...         ...   \n",
      "9995  8510  User8510   NaN         NaN      Mobile         Top   \n",
      "9996  7843  User7843   NaN      Female     Desktop      Bottom   \n",
      "9997  3914  User3914   NaN        Male      Mobile        Side   \n",
      "9998  7924  User7924   NaN         NaN     Desktop         NaN   \n",
      "9999  3056  User3056  44.0        Male      Tablet         Top   \n",
      "\n",
      "     browsing_history time_of_day  click  \n",
      "0            Shopping   Afternoon      1  \n",
      "1                 NaN         NaN      1  \n",
      "2           Education       Night      1  \n",
      "3       Entertainment     Evening      1  \n",
      "4        Social Media     Morning      0  \n",
      "...               ...         ...    ...  \n",
      "9995        Education         NaN      0  \n",
      "9996    Entertainment         NaN      0  \n",
      "9997              NaN     Morning      0  \n",
      "9998         Shopping     Morning      1  \n",
      "9999     Social Media     Morning      0  \n",
      "\n",
      "[10000 rows x 9 columns]\n"
     ]
    }
   ],
   "source": [
    "#Reading data\n",
    "\n",
    "import pandas as pd\n",
    "\n",
    "df = pd.read_csv('data/ad_click_dataset.csv')\n",
    "print(df)"
   ]
  },
  {
   "cell_type": "code",
   "execution_count": 3,
   "id": "17a5be9f-86ea-4ad6-8b00-a01966fc9d41",
   "metadata": {},
   "outputs": [
    {
     "name": "stdout",
     "output_type": "stream",
     "text": [
      "We have total 10000 rows and 9 columns in the dataframe.\n"
     ]
    }
   ],
   "source": [
    "print(f'We have total {len(df)} rows and {len(df.columns)} columns in the dataframe.')"
   ]
  },
  {
   "cell_type": "code",
   "execution_count": 4,
   "id": "712b6fba-6c83-4419-babe-9578be03cbe5",
   "metadata": {},
   "outputs": [
    {
     "name": "stdout",
     "output_type": "stream",
     "text": [
      "Index(['id', 'full_name', 'age', 'gender', 'device_type', 'ad_position',\n",
      "       'browsing_history', 'time_of_day', 'click'],\n",
      "      dtype='object')\n"
     ]
    }
   ],
   "source": [
    "print(df.columns)"
   ]
  },
  {
   "cell_type": "code",
   "execution_count": 5,
   "id": "9559ea25-ff45-4fb3-81f3-91973d9c5664",
   "metadata": {},
   "outputs": [
    {
     "name": "stdout",
     "output_type": "stream",
     "text": [
      "id, int64\n",
      "full_name, object\n",
      "age, float64\n",
      "gender, object\n",
      "device_type, object\n",
      "ad_position, object\n",
      "browsing_history, object\n",
      "time_of_day, object\n",
      "click, int64\n"
     ]
    }
   ],
   "source": [
    "for column in df.columns:\n",
    "    print(f\"{column}, {df[column].dtype}\")"
   ]
  },
  {
   "cell_type": "code",
   "execution_count": 6,
   "id": "649506f0-2ba0-47e5-90e6-2808f16fbbe9",
   "metadata": {},
   "outputs": [],
   "source": [
    "#Gender Types - Female, Male, Non-Binary\n",
    "#for types in df['gender']:\n",
    " #   print(types)"
   ]
  },
  {
   "cell_type": "code",
   "execution_count": 7,
   "id": "4941f553-b6ce-4428-a5d6-27783a15bf6d",
   "metadata": {},
   "outputs": [],
   "source": [
    "#Device Types - Desktop, Mobile, Tablet\n",
    "#for types in df['device_type']:\n",
    "#    print(types)"
   ]
  },
  {
   "cell_type": "code",
   "execution_count": 8,
   "id": "b1df55de-f188-49d6-b041-38de973a6c93",
   "metadata": {},
   "outputs": [],
   "source": [
    "#AD Positions - Top, Side, Bottom\n",
    "#for position in df['ad_position']:\n",
    "#    print(position)"
   ]
  },
  {
   "cell_type": "code",
   "execution_count": 9,
   "id": "9f3339f0-f190-413f-9d92-533c347db52b",
   "metadata": {},
   "outputs": [],
   "source": [
    "#Browsing History Details - Shopping, Education, Social Media, News, Entertainment\n",
    "#for details in df['browsing_history']:\n",
    "#    print(details)"
   ]
  },
  {
   "cell_type": "code",
   "execution_count": 10,
   "id": "69383862-a764-4311-b0a0-f75bbb5df732",
   "metadata": {},
   "outputs": [],
   "source": [
    "#Times of Day - Afternoon, Morning, Evening, Morning\n",
    "#for time in df['time_of_day']:\n",
    "#    print(time)"
   ]
  },
  {
   "cell_type": "code",
   "execution_count": 11,
   "id": "751f304c-2b02-440a-8050-7c22d2c670bc",
   "metadata": {},
   "outputs": [
    {
     "name": "stdout",
     "output_type": "stream",
     "text": [
      "count    10000.000000\n",
      "mean         0.650000\n",
      "std          0.476993\n",
      "min          0.000000\n",
      "25%          0.000000\n",
      "50%          1.000000\n",
      "75%          1.000000\n",
      "max          1.000000\n",
      "Name: click, dtype: float64\n"
     ]
    }
   ],
   "source": [
    "print(df['click'].describe())\n",
    "#My target variable click is categorical. "
   ]
  },
  {
   "cell_type": "code",
   "execution_count": 12,
   "id": "adb781d7-1f8b-4387-834d-f3d27f3d9c90",
   "metadata": {},
   "outputs": [
    {
     "data": {
      "image/png": "[encoded data removed]",
      "text/plain": [
       "<Figure size 600x300 with 1 Axes>"
      ]
     },
     "metadata": {},
     "output_type": "display_data"
    },
    {
     "name": "stdout",
     "output_type": "stream",
     "text": [
      "This graph shows how many users clicked on the ad. (1-Yes clicked, 0-No)\n"
     ]
    }
   ],
   "source": [
    "import matplotlib.pyplot as plt\n",
    "\n",
    "plt.figure(figsize=(6,3))\n",
    "df['click'].value_counts().plot.bar()\n",
    "plt.xlabel('Click 1-Yes, 0-No')\n",
    "plt.ylabel('Number of Users')\n",
    "plt.title('Count of Clicks vs No Clicks')\n",
    "plt.xticks(rotation=0)\n",
    "plt.show()\n",
    "print('This graph shows how many users clicked on the ad. (1-Yes clicked, 0-No)')"
   ]
  },
  {
   "cell_type": "code",
   "execution_count": 13,
   "id": "24019c49-a3b0-44fe-8604-02a216e8c0c5",
   "metadata": {},
   "outputs": [
    {
     "data": {
      "image/png": "[encoded data removed]",
      "text/plain": [
       "<Figure size 1000x600 with 1 Axes>"
      ]
     },
     "metadata": {},
     "output_type": "display_data"
    },
    {
     "name": "stdout",
     "output_type": "stream",
     "text": [
      "This graph shows how many users clicked on the ad based on their age. (1-Yes clicked, 0-No)\n"
     ]
    }
   ],
   "source": [
    "#Continous vs Categorical - Age vs Click(Target Variable) Boxplot\n",
    "\n",
    "df[['age','click']].boxplot(by='click',figsize=(10,6))\n",
    "plt.xlabel('Click 0-No, 1-Yes')\n",
    "plt.ylabel('Age')\n",
    "plt.title('Ad Click Based on Age') \n",
    "plt.suptitle('')\n",
    "plt.show()\n",
    "print('This graph shows how many users clicked on the ad based on their age. (1-Yes clicked, 0-No)')"
   ]
  },
  {
   "cell_type": "code",
   "execution_count": 14,
   "id": "790b8d09-57f3-4f4b-891b-2664eb4bbd8e",
   "metadata": {},
   "outputs": [
    {
     "data": {
      "text/plain": [
       "<Figure size 1000x500 with 0 Axes>"
      ]
     },
     "metadata": {},
     "output_type": "display_data"
    },
    {
     "data": {
      "image/png": "[encoded data removed]",
      "text/plain": [
       "<Figure size 640x480 with 1 Axes>"
      ]
     },
     "metadata": {},
     "output_type": "display_data"
    },
    {
     "name": "stdout",
     "output_type": "stream",
     "text": [
      "This graph shows proportion of ad clicks based on users browsing history. (1-Yes clicked, 0-No)\n"
     ]
    }
   ],
   "source": [
    "#Categorical vs Categorical - Browsing History vs Click(Target Variable) Grouped Bar Plot\n",
    "\n",
    "plot = pd.crosstab(df['browsing_history'], df['click'], normalize='index')\n",
    "\n",
    "plt.figure(figsize=(10, 5))\n",
    "plot.plot(kind='bar', color=['Teal', 'orange'])\n",
    "plt.title('Click Patterns Based on Browsing History')\n",
    "plt.xlabel('Browsing History')\n",
    "plt.ylabel('Proportion of Clicks')\n",
    "plt.xticks(rotation=0)\n",
    "plt.legend(title='Click')\n",
    "plt.tight_layout()\n",
    "plt.show()\n",
    "print('This graph shows proportion of ad clicks based on users browsing history. (1-Yes clicked, 0-No)')"
   ]
  },
  {
   "cell_type": "code",
   "execution_count": 15,
   "id": "85d6e087-c3e1-4a15-ba06-6959272413f7",
   "metadata": {},
   "outputs": [
    {
     "data": {
      "text/plain": [
       "<Figure size 1000x500 with 0 Axes>"
      ]
     },
     "metadata": {},
     "output_type": "display_data"
    },
    {
     "data": {
      "image/png": "[encoded data removed]",
      "text/plain": [
       "<Figure size 640x480 with 1 Axes>"
      ]
     },
     "metadata": {},
     "output_type": "display_data"
    },
    {
     "name": "stdout",
     "output_type": "stream",
     "text": [
      "This graph shows proportion of ad clicks based on users gender. (1-Yes clicked, 0-No)\n"
     ]
    }
   ],
   "source": [
    "#Categorical vs Categorical - Gender vs Click(Target Variable) Stacked Bar Plot\n",
    "\n",
    "browsing_click_data = pd.crosstab(df['gender'], df['click'], normalize='index')\n",
    "\n",
    "plt.figure(figsize=(10, 5))\n",
    "browsing_click_data.plot(kind='bar', stacked=True, color=['Teal', 'Red'])\n",
    "plt.title('Ad Click Behavior Across different Gender')\n",
    "plt.xlabel('Gender')\n",
    "plt.ylabel('Proportion of Users')\n",
    "plt.xticks(rotation=0)\n",
    "plt.legend(title='Click')\n",
    "plt.tight_layout()\n",
    "plt.show()\n",
    "print('This graph shows proportion of ad clicks based on users gender. (1-Yes clicked, 0-No)')"
   ]
  },
  {
   "cell_type": "code",
   "execution_count": 16,
   "id": "fa7d1aa1-4479-46be-a8ea-9b72e1a2ee5b",
   "metadata": {},
   "outputs": [
    {
     "data": {
      "text/plain": [
       "<Figure size 1000x500 with 0 Axes>"
      ]
     },
     "metadata": {},
     "output_type": "display_data"
    },
    {
     "data": {
      "image/png": "[encoded data removed]",
      "text/plain": [
       "<Figure size 640x480 with 1 Axes>"
      ]
     },
     "metadata": {},
     "output_type": "display_data"
    },
    {
     "name": "stdout",
     "output_type": "stream",
     "text": [
      "This graph shows proportion of ad clicks based on users device type. (1-Yes clicked, 0-No)\n"
     ]
    }
   ],
   "source": [
    "#Categorical vs Categorical - Device Type vs Click(Target Variable) Stacked Bar Plot\n",
    "\n",
    "browsing_click_data = pd.crosstab(df['device_type'], df['click'], normalize='index')\n",
    "\n",
    "plt.figure(figsize=(10, 5))\n",
    "browsing_click_data.plot(kind='bar', stacked=True, color=['Blue', 'Orange'])\n",
    "plt.title('Ad Click Behavior Across different Devices')\n",
    "plt.xlabel('Devices')\n",
    "plt.ylabel('Proportion of Users')\n",
    "plt.xticks(rotation=0)\n",
    "plt.legend(title='Click')\n",
    "plt.tight_layout()\n",
    "plt.show()\n",
    "print('This graph shows proportion of ad clicks based on users device type. (1-Yes clicked, 0-No)')"
   ]
  },
  {
   "cell_type": "code",
   "execution_count": 17,
   "id": "858d3752-e59d-4124-b662-48d407df58e0",
   "metadata": {},
   "outputs": [
    {
     "data": {
      "text/plain": [
       "<Figure size 1000x500 with 0 Axes>"
      ]
     },
     "metadata": {},
     "output_type": "display_data"
    },
    {
     "data": {
      "image/png": "[encoded data removed]",
      "text/plain": [
       "<Figure size 640x480 with 1 Axes>"
      ]
     },
     "metadata": {},
     "output_type": "display_data"
    },
    {
     "name": "stdout",
     "output_type": "stream",
     "text": [
      "This graph shows proportion of ad clicks based on position of ads. (1-Yes clicked, 0-No)\n"
     ]
    }
   ],
   "source": [
    "#Categorical vs Categorical - Ad Position vs Click(Target Variable) Stacked Bar Plot\n",
    "\n",
    "browsing_click_data = pd.crosstab(df['ad_position'], df['click'], normalize='index')\n",
    "\n",
    "plt.figure(figsize=(10, 5))\n",
    "browsing_click_data.plot(kind='bar', stacked=True, color=['Blue', 'Orange'])\n",
    "plt.title('Ad Click Behavior Across different Ad Positions')\n",
    "plt.xlabel('Ad Positions')\n",
    "plt.ylabel('Proportion of Users')\n",
    "plt.xticks(rotation=0)\n",
    "plt.legend(title='Click')\n",
    "plt.tight_layout()\n",
    "plt.show()\n",
    "print('This graph shows proportion of ad clicks based on position of ads. (1-Yes clicked, 0-No)')"
   ]
  },
  {
   "cell_type": "code",
   "execution_count": 18,
   "id": "3f9381e6-6d20-45a4-a263-506da8a99173",
   "metadata": {},
   "outputs": [
    {
     "data": {
      "text/plain": [
       "<Figure size 1000x500 with 0 Axes>"
      ]
     },
     "metadata": {},
     "output_type": "display_data"
    },
    {
     "data": {
      "image/png": "[encoded data removed]",
      "text/plain": [
       "<Figure size 640x480 with 1 Axes>"
      ]
     },
     "metadata": {},
     "output_type": "display_data"
    },
    {
     "name": "stdout",
     "output_type": "stream",
     "text": [
      "This graph shows proportion of ad clicks based on different time of the day. (1-Yes clicked, 0-No)\n"
     ]
    }
   ],
   "source": [
    "#Categorical vs Categorical - Time of the Day vs Click(Target Variable) Stacked Bar Plot\n",
    "\n",
    "browsing_click_data = pd.crosstab(df['time_of_day'], df['click'], normalize='index')\n",
    "\n",
    "plt.figure(figsize=(10, 5))\n",
    "browsing_click_data.plot(kind='bar', stacked=True, color=['Blue', 'Orange'])\n",
    "plt.title('Ad Click Behavior Across different Times')\n",
    "plt.xlabel('Times')\n",
    "plt.ylabel('Proportion of Users')\n",
    "plt.xticks(rotation=0)\n",
    "plt.legend(title='Click')\n",
    "plt.tight_layout()\n",
    "plt.show()\n",
    "print('This graph shows proportion of ad clicks based on different time of the day. (1-Yes clicked, 0-No)')"
   ]
  },
  {
   "cell_type": "code",
   "execution_count": 19,
   "id": "ee760c32-71be-4723-97f1-90e3277f4524",
   "metadata": {},
   "outputs": [
    {
     "data": {
      "text/plain": [
       "<Figure size 1000x500 with 0 Axes>"
      ]
     },
     "metadata": {},
     "output_type": "display_data"
    },
    {
     "data": {
      "image/png": "[encoded data removed]",
      "text/plain": [
       "<Figure size 640x480 with 1 Axes>"
      ]
     },
     "metadata": {},
     "output_type": "display_data"
    },
    {
     "name": "stdout",
     "output_type": "stream",
     "text": [
      "This graph shows browsing history of users based on their age.\n"
     ]
    }
   ],
   "source": [
    "#Categorical vs Categorical - Age vs Browsing History\n",
    "\n",
    "age_bins = [18, 30, 40, 50, 64]\n",
    "age_labels = ['18-30', '31-40', '41-50', '51-64']\n",
    "df['age_group'] = pd.cut(df['age'], bins=age_bins, labels=age_labels)\n",
    "plot = pd.crosstab(df['browsing_history'], df['age_group'])\n",
    "\n",
    "plt.figure(figsize=(10, 5))\n",
    "plot.plot(kind='bar', color=['Teal', 'orange', 'skyblue', 'purple'])\n",
    "plt.title('Browsing History vs Age Group')\n",
    "plt.xlabel('Browsing History')\n",
    "plt.ylabel('Users')\n",
    "plt.xticks(rotation=0)\n",
    "plt.legend(title='Age')\n",
    "plt.tight_layout()\n",
    "plt.show()\n",
    "print('This graph shows browsing history of users based on their age.')"
   ]
  },
  {
   "cell_type": "code",
   "execution_count": 20,
   "id": "1dcdbfdf-272f-4c60-a2b4-1c871f3e097d",
   "metadata": {
    "scrolled": true
   },
   "outputs": [
    {
     "name": "stdout",
     "output_type": "stream",
     "text": [
      "     id full_name   age      gender device_type ad_position browsing_history  \\\n",
      "0   670   User670  22.0         NaN     Desktop         Top         Shopping   \n",
      "1  3044  User3044   NaN        Male     Desktop         Top              NaN   \n",
      "2  5912  User5912  41.0  Non-Binary         NaN        Side        Education   \n",
      "3  5418  User5418  34.0        Male         NaN         NaN    Entertainment   \n",
      "4  9452  User9452  39.0  Non-Binary         NaN         NaN     Social Media   \n",
      "\n",
      "  time_of_day  click  \n",
      "0   Afternoon      1  \n",
      "1         NaN      1  \n",
      "2       Night      1  \n",
      "3     Evening      1  \n",
      "4     Morning      0  \n"
     ]
    }
   ],
   "source": [
    "df = df.drop(columns=['age_group'])\n",
    "print(df.head())"
   ]
  },
  {
   "cell_type": "code",
   "execution_count": 21,
   "id": "7a29cd12-c10f-4d91-9021-b6e671eaa12d",
   "metadata": {},
   "outputs": [
    {
     "data": {
      "text/plain": [
       "\"# your code here\\nimport numpy as np\\nfrom sklearn.model_selection import train_test_split \\n\\ndf = df.drop(columns=['full_name']) #Dropping full name, as it adds no value\\nX = df.loc[:, df.columns != 'click']\\ny = df['click']  #Target variable\\n\\ndef basic_split(X, y, train_size, val_size, test_size, random_state):\\n    if train_size + val_size + test_size != 1:\\n        raise ValueError('The sum of the train_size, val_size and test_size should be 1.')\\n    if type(random_state) != int:\\n        raise ValueError('random_state should be an integer.')\\n\\n    # first split to separate out the training set\\n    X_train, X_other, y_train, y_other = train_test_split(X, y, train_size = train_size, random_state = random_state)\\n    print('training set:',X_train.shape, y_train.shape) # 60% of points are in train\\n    print(X_other.shape, y_other.shape) # 40% of points are in other\\n\\n    if X_train.shape[0] != int(train_size * len(X)):\\n        raise ValueError(f'Expected {int(train_size * len(X))} rows in X_train, but got {X_train.shape[0]}')\\n    \\n    X_val, X_test, y_val, y_test = train_test_split(X_other, y_other, train_size = val_size/(val_size + test_size), random_state = random_state)\\n    print('validation set:',X_val.shape, y_val.shape) # 20% of points are in validation\\n    print('test set:',X_test.shape, y_test.shape) # 20% of points are in test\\n\\n    if X_val.shape[0] != int(val_size * len(X)):\\n        raise ValueError(f'Expected {int(val_size * len(X))} rows in X_val, but got {X_val.shape[0]}')\\n    if X_test.shape[0] != int(test_size * len(X)):\\n        raise ValueError(f'Expected {int(test_size * len(X))} rows in X_test, but got {X_test.shape[0]}')\\n    \\n    return X_train, y_train, X_val, y_val, X_test, y_test\\n\\nrandom_state = 42\\nX_train, y_train, X_val, y_val, X_test, y_test = basic_split(X, y, train_size=0.6, val_size=0.2, test_size=0.2, random_state=random_state)\\nprint(X_train.head())\\nprint(X_val.head())\\nprint(X_test.head())\""
      ]
     },
     "execution_count": 21,
     "metadata": {},
     "output_type": "execute_result"
    }
   ],
   "source": [
    "'''# your code here\n",
    "import numpy as np\n",
    "from sklearn.model_selection import train_test_split \n",
    "\n",
    "df = df.drop(columns=['full_name']) #Dropping full name, as it adds no value\n",
    "X = df.loc[:, df.columns != 'click']\n",
    "y = df['click']  #Target variable\n",
    "\n",
    "def basic_split(X, y, train_size, val_size, test_size, random_state):\n",
    "    if train_size + val_size + test_size != 1:\n",
    "        raise ValueError('The sum of the train_size, val_size and test_size should be 1.')\n",
    "    if type(random_state) != int:\n",
    "        raise ValueError('random_state should be an integer.')\n",
    "\n",
    "    # first split to separate out the training set\n",
    "    X_train, X_other, y_train, y_other = train_test_split(X, y, train_size = train_size, random_state = random_state)\n",
    "    print('training set:',X_train.shape, y_train.shape) # 60% of points are in train\n",
    "    print(X_other.shape, y_other.shape) # 40% of points are in other\n",
    "\n",
    "    if X_train.shape[0] != int(train_size * len(X)):\n",
    "        raise ValueError(f'Expected {int(train_size * len(X))} rows in X_train, but got {X_train.shape[0]}')\n",
    "    \n",
    "    X_val, X_test, y_val, y_test = train_test_split(X_other, y_other, train_size = val_size/(val_size + test_size), random_state = random_state)\n",
    "    print('validation set:',X_val.shape, y_val.shape) # 20% of points are in validation\n",
    "    print('test set:',X_test.shape, y_test.shape) # 20% of points are in test\n",
    "\n",
    "    if X_val.shape[0] != int(val_size * len(X)):\n",
    "        raise ValueError(f'Expected {int(val_size * len(X))} rows in X_val, but got {X_val.shape[0]}')\n",
    "    if X_test.shape[0] != int(test_size * len(X)):\n",
    "        raise ValueError(f'Expected {int(test_size * len(X))} rows in X_test, but got {X_test.shape[0]}')\n",
    "    \n",
    "    return X_train, y_train, X_val, y_val, X_test, y_test\n",
    "\n",
    "random_state = 42\n",
    "X_train, y_train, X_val, y_val, X_test, y_test = basic_split(X, y, train_size=0.6, val_size=0.2, test_size=0.2, random_state=random_state)\n",
    "print(X_train.head())\n",
    "print(X_val.head())\n",
    "print(X_test.head())'''"
   ]
  },
  {
   "cell_type": "code",
   "execution_count": 26,
   "id": "6f485970-fcf4-4c4e-b99e-a0bffe47d2b4",
   "metadata": {},
   "outputs": [
    {
     "name": "stdout",
     "output_type": "stream",
     "text": [
      "Test set size: (2019, 6) (2019,)\n",
      "Training set size: (6385, 6) (6385,)\n",
      "Validation set size: (1596, 6) (1596,)\n",
      "Training set size: (6383, 6) (6383,)\n",
      "Validation set size: (1598, 6) (1598,)\n",
      "Training set size: (6384, 6) (6384,)\n",
      "Validation set size: (1597, 6) (1597,)\n",
      "Training set size: (6386, 6) (6386,)\n",
      "Validation set size: (1595, 6) (1595,)\n",
      "Training set size: (6386, 6) (6386,)\n",
      "Validation set size: (1595, 6) (1595,)\n",
      "    age      gender device_type ad_position browsing_history time_of_day\n",
      "0  22.0         NaN     Desktop         Top         Shopping   Afternoon\n",
      "1   NaN        Male     Desktop         Top              NaN         NaN\n",
      "2  41.0  Non-Binary         NaN        Side        Education       Night\n",
      "3  34.0        Male         NaN         NaN    Entertainment     Evening\n",
      "4  39.0  Non-Binary         NaN         NaN     Social Media     Morning\n",
      "     age      gender device_type ad_position browsing_history time_of_day\n",
      "8    NaN  Non-Binary      Mobile      Bottom     Social Media         NaN\n",
      "25  43.0        Male      Tablet      Bottom        Education   Afternoon\n",
      "33  37.0        Male      Mobile         Top             News     Evening\n",
      "34   NaN         NaN      Mobile         Top    Entertainment   Afternoon\n",
      "45  52.0      Female     Desktop      Bottom              NaN   Afternoon\n",
      "     age      gender device_type ad_position browsing_history time_of_day\n",
      "5    NaN  Non-Binary         NaN      Bottom     Social Media     Evening\n",
      "6   26.0      Female     Desktop         Top              NaN         NaN\n",
      "13  19.0         NaN     Desktop         NaN              NaN         NaN\n",
      "14   NaN         NaN      Mobile         NaN              NaN     Morning\n",
      "15   NaN         NaN         NaN         Top    Entertainment   Afternoon\n"
     ]
    }
   ],
   "source": [
    "from sklearn.model_selection import GroupShuffleSplit, StratifiedGroupKFold\n",
    "\n",
    "X = df.drop(columns=['click', 'id', 'full_name']) #Dropping full name, as it adds no value\n",
    "y = df['click']  #Target variable\n",
    "groups = df['id'] \n",
    "\n",
    "def group_split_with_stratifiedGroupkfold(X, y, groups, train_size, test_size, n_splits, random_state):\n",
    "    if train_size + test_size != 1:\n",
    "        raise ValueError('The sum of the train_size and test_size should be 1.')\n",
    "    \n",
    "    #Using GroupShuffleSplit to split into train+validation and test set\n",
    "    splitter = GroupShuffleSplit(n_splits=1, test_size=test_size, random_state=random_state)\n",
    "    \n",
    "    for i_train_val, i_test in splitter.split(X, y, groups):\n",
    "        X_train_val, y_train_val, groups_train_val = X.iloc[i_train_val], y.iloc[i_train_val], groups.iloc[i_train_val]\n",
    "        X_test, y_test, groups_test = X.iloc[i_test], y.iloc[i_test], groups.iloc[i_test]\n",
    "    \n",
    "    print('Test set size:', X_test.shape, y_test.shape)\n",
    "    \n",
    "    #Using Stratified GroupKFold to split the train+validation set into train and validation sets\n",
    "    skf = StratifiedGroupKFold(n_splits=n_splits)\n",
    "    for i_train, i_val in skf.split(X_train_val, y_train_val, groups_train_val):\n",
    "        X_train, y_train, groups_train = X_train_val.iloc[i_train], y_train_val.iloc[i_train], groups_train_val.iloc[i_train]\n",
    "        X_val, y_val, groups_val = X_train_val.iloc[i_val], y_train_val.iloc[i_val], groups_train_val.iloc[i_val]\n",
    "    \n",
    "        print('Training set size:', X_train.shape, y_train.shape) \n",
    "        print('Validation set size:', X_val.shape, y_val.shape)\n",
    "        \n",
    "\n",
    "    return X_train, y_train, X_val, y_val, X_test, y_test\n",
    "\n",
    "random_state = 42\n",
    "n_splits = 5  #Number of folds for GroupKFold\n",
    "X_train, y_train, X_val, y_val, X_test, y_test = group_split_with_stratifiedGroupkfold(X, y, groups, train_size=0.8, test_size=0.2, n_splits=n_splits, random_state=random_state)\n",
    "\n",
    "print(X_train.head())\n",
    "print(X_val.head())\n",
    "print(X_test.head())"
   ]
  },
  {
   "cell_type": "code",
   "execution_count": 23,
   "id": "389fc66e-2231-4fcc-bf89-2466775b340a",
   "metadata": {},
   "outputs": [
    {
     "data": {
      "text/html": [
       "<div>\n",
       "<style scoped>\n",
       "    .dataframe tbody tr th:only-of-type {\n",
       "        vertical-align: middle;\n",
       "    }\n",
       "\n",
       "    .dataframe tbody tr th {\n",
       "        vertical-align: top;\n",
       "    }\n",
       "\n",
       "    .dataframe thead th {\n",
       "        text-align: right;\n",
       "    }\n",
       "</style>\n",
       "<table border=\"1\" class=\"dataframe\">\n",
       "  <thead>\n",
       "    <tr style=\"text-align: right;\">\n",
       "      <th></th>\n",
       "      <th>id</th>\n",
       "      <th>full_name</th>\n",
       "      <th>age</th>\n",
       "      <th>gender</th>\n",
       "      <th>device_type</th>\n",
       "      <th>ad_position</th>\n",
       "      <th>browsing_history</th>\n",
       "      <th>time_of_day</th>\n",
       "      <th>click</th>\n",
       "    </tr>\n",
       "  </thead>\n",
       "  <tbody>\n",
       "    <tr>\n",
       "      <th>0</th>\n",
       "      <td>670</td>\n",
       "      <td>User670</td>\n",
       "      <td>22.0</td>\n",
       "      <td>NaN</td>\n",
       "      <td>Desktop</td>\n",
       "      <td>Top</td>\n",
       "      <td>Shopping</td>\n",
       "      <td>Afternoon</td>\n",
       "      <td>1</td>\n",
       "    </tr>\n",
       "    <tr>\n",
       "      <th>1</th>\n",
       "      <td>3044</td>\n",
       "      <td>User3044</td>\n",
       "      <td>NaN</td>\n",
       "      <td>Male</td>\n",
       "      <td>Desktop</td>\n",
       "      <td>Top</td>\n",
       "      <td>NaN</td>\n",
       "      <td>NaN</td>\n",
       "      <td>1</td>\n",
       "    </tr>\n",
       "    <tr>\n",
       "      <th>2</th>\n",
       "      <td>5912</td>\n",
       "      <td>User5912</td>\n",
       "      <td>41.0</td>\n",
       "      <td>Non-Binary</td>\n",
       "      <td>NaN</td>\n",
       "      <td>Side</td>\n",
       "      <td>Education</td>\n",
       "      <td>Night</td>\n",
       "      <td>1</td>\n",
       "    </tr>\n",
       "    <tr>\n",
       "      <th>3</th>\n",
       "      <td>5418</td>\n",
       "      <td>User5418</td>\n",
       "      <td>34.0</td>\n",
       "      <td>Male</td>\n",
       "      <td>NaN</td>\n",
       "      <td>NaN</td>\n",
       "      <td>Entertainment</td>\n",
       "      <td>Evening</td>\n",
       "      <td>1</td>\n",
       "    </tr>\n",
       "    <tr>\n",
       "      <th>4</th>\n",
       "      <td>9452</td>\n",
       "      <td>User9452</td>\n",
       "      <td>39.0</td>\n",
       "      <td>Non-Binary</td>\n",
       "      <td>NaN</td>\n",
       "      <td>NaN</td>\n",
       "      <td>Social Media</td>\n",
       "      <td>Morning</td>\n",
       "      <td>0</td>\n",
       "    </tr>\n",
       "  </tbody>\n",
       "</table>\n",
       "</div>"
      ],
      "text/plain": [
       "     id full_name   age      gender device_type ad_position browsing_history  \\\n",
       "0   670   User670  22.0         NaN     Desktop         Top         Shopping   \n",
       "1  3044  User3044   NaN        Male     Desktop         Top              NaN   \n",
       "2  5912  User5912  41.0  Non-Binary         NaN        Side        Education   \n",
       "3  5418  User5418  34.0        Male         NaN         NaN    Entertainment   \n",
       "4  9452  User9452  39.0  Non-Binary         NaN         NaN     Social Media   \n",
       "\n",
       "  time_of_day  click  \n",
       "0   Afternoon      1  \n",
       "1         NaN      1  \n",
       "2       Night      1  \n",
       "3     Evening      1  \n",
       "4     Morning      0  "
      ]
     },
     "execution_count": 23,
     "metadata": {},
     "output_type": "execute_result"
    }
   ],
   "source": [
    "df.head()"
   ]
  },
  {
   "cell_type": "code",
   "execution_count": 24,
   "id": "678dab46-c636-4159-90fe-a0ac3cc6fbd2",
   "metadata": {},
   "outputs": [
    {
     "name": "stdout",
     "output_type": "stream",
     "text": [
      "id                    int64\n",
      "full_name            object\n",
      "age                 float64\n",
      "gender               object\n",
      "device_type          object\n",
      "ad_position          object\n",
      "browsing_history     object\n",
      "time_of_day          object\n",
      "click                 int64\n",
      "dtype: object\n"
     ]
    }
   ],
   "source": [
    "print(df.dtypes)"
   ]
  },
  {
   "cell_type": "code",
   "execution_count": 25,
   "id": "0c00d121-e89c-4365-94c2-172df81e8b26",
   "metadata": {},
   "outputs": [
    {
     "name": "stdout",
     "output_type": "stream",
     "text": [
      "id                     0\n",
      "full_name              0\n",
      "age                 4766\n",
      "gender              4693\n",
      "device_type         2000\n",
      "ad_position         2000\n",
      "browsing_history    4782\n",
      "time_of_day         2000\n",
      "click                  0\n",
      "dtype: int64\n"
     ]
    }
   ],
   "source": [
    "print(df.isnull().sum())"
   ]
  },
  {
   "cell_type": "code",
   "execution_count": 26,
   "id": "297675f1-04ca-457a-a016-157e29c3728d",
   "metadata": {},
   "outputs": [],
   "source": [
    "#df = df.drop(columns=['full_name'])\n",
    "#print(df.head())"
   ]
  },
  {
   "cell_type": "code",
   "execution_count": 27,
   "id": "3c367bc4-f947-400d-92f1-6118ea47a85b",
   "metadata": {},
   "outputs": [],
   "source": [
    "#import numpy as np\n",
    "#df = df.replace()"
   ]
  },
  {
   "cell_type": "code",
   "execution_count": 28,
   "id": "036e29e7-3008-4feb-b3b0-8f1b1181f94a",
   "metadata": {},
   "outputs": [
    {
     "data": {
      "text/plain": [
       "\"from sklearn.preprocessing import OneHotEncoder, MinMaxScaler\\nfrom sklearn.impute import SimpleImputer\\nfrom sklearn.compose import ColumnTransformer\\nfrom sklearn.pipeline import Pipeline\\n\\ncategorical_features = ['gender', 'browsing_history', 'device_type', 'ad_position', 'time_of_day']\\nnumerical_features = ['age']\\n\\ncategorical_imputer = SimpleImputer(strategy='constant', fill_value='Unknown')\\nnumerical_imputer = SimpleImputer(strategy='mean')\\n\\nonehot_encoder = OneHotEncoder(sparse_output=False, handle_unknown='ignore')  \\n\\nscaler = MinMaxScaler()\\n\\npreprocessor = ColumnTransformer(\\n    transformers=[\\n        ('num', Pipeline(steps=[('imputer', numerical_imputer), ('scaler', scaler)]), numerical_features),\\n        ('cat', Pipeline(steps=[('imputer', categorical_imputer), ('onehot', onehot_encoder)]), categorical_features)\\n    ])\\n\\nX = df.drop(columns=['click', 'id'])\\ny = df['click'] \\n\\nX_preprocessed = preprocessor.fit_transform(X)\\n\\ncategorical_columns = preprocessor.named_transformers_['cat'].named_steps['onehot'].get_feature_names_out(categorical_features)\\nnumerical_columns = numerical_features\\n\\nX_preprocessed_df = pd.DataFrame(X_preprocessed, columns=list(numerical_columns) + list(categorical_columns))\\n\\nprint(X_preprocessed_df.head())\""
      ]
     },
     "execution_count": 28,
     "metadata": {},
     "output_type": "execute_result"
    }
   ],
   "source": [
    "'''from sklearn.preprocessing import OneHotEncoder, MinMaxScaler\n",
    "from sklearn.impute import SimpleImputer\n",
    "from sklearn.compose import ColumnTransformer\n",
    "from sklearn.pipeline import Pipeline\n",
    "\n",
    "categorical_features = ['gender', 'browsing_history', 'device_type', 'ad_position', 'time_of_day']\n",
    "numerical_features = ['age']\n",
    "\n",
    "categorical_imputer = SimpleImputer(strategy='constant', fill_value='Unknown')\n",
    "numerical_imputer = SimpleImputer(strategy='mean')\n",
    "\n",
    "onehot_encoder = OneHotEncoder(sparse_output=False, handle_unknown='ignore')  \n",
    "\n",
    "scaler = MinMaxScaler()\n",
    "\n",
    "preprocessor = ColumnTransformer(\n",
    "    transformers=[\n",
    "        ('num', Pipeline(steps=[('imputer', numerical_imputer), ('scaler', scaler)]), numerical_features),\n",
    "        ('cat', Pipeline(steps=[('imputer', categorical_imputer), ('onehot', onehot_encoder)]), categorical_features)\n",
    "    ])\n",
    "\n",
    "X = df.drop(columns=['click', 'id'])\n",
    "y = df['click'] \n",
    "\n",
    "X_preprocessed = preprocessor.fit_transform(X)\n",
    "\n",
    "categorical_columns = preprocessor.named_transformers_['cat'].named_steps['onehot'].get_feature_names_out(categorical_features)\n",
    "numerical_columns = numerical_features\n",
    "\n",
    "X_preprocessed_df = pd.DataFrame(X_preprocessed, columns=list(numerical_columns) + list(categorical_columns))\n",
    "\n",
    "print(X_preprocessed_df.head())'''"
   ]
  },
  {
   "cell_type": "code",
   "execution_count": 29,
   "id": "d15a6c66-1df8-4598-9c2c-d405a734eef5",
   "metadata": {},
   "outputs": [
    {
     "data": {
      "text/plain": [
       "\"from sklearn.preprocessing import OneHotEncoder\\n\\n# Collect all categorical features\\nonehot_ftrs = ['gender', 'device_type', 'ad_position', 'browsing_history', 'time_of_day']\\n\\n# Initialize the OneHotEncoder\\nenc = OneHotEncoder(sparse_output=False, handle_unknown='ignore')\\n\\n# Fit the training data\\nenc.fit(X_train[onehot_ftrs])\\n\\n# Print the feature names after One-Hot Encoding\\nprint('Feature names:', enc.get_feature_names_out(onehot_ftrs))\\nprint('Number of new features:', len(enc.get_feature_names_out(onehot_ftrs)))\""
      ]
     },
     "execution_count": 29,
     "metadata": {},
     "output_type": "execute_result"
    }
   ],
   "source": [
    "'''from sklearn.preprocessing import OneHotEncoder\n",
    "\n",
    "# Collect all categorical features\n",
    "onehot_ftrs = ['gender', 'device_type', 'ad_position', 'browsing_history', 'time_of_day']\n",
    "\n",
    "# Initialize the OneHotEncoder\n",
    "enc = OneHotEncoder(sparse_output=False, handle_unknown='ignore')\n",
    "\n",
    "# Fit the training data\n",
    "enc.fit(X_train[onehot_ftrs])\n",
    "\n",
    "# Print the feature names after One-Hot Encoding\n",
    "print('Feature names:', enc.get_feature_names_out(onehot_ftrs))\n",
    "print('Number of new features:', len(enc.get_feature_names_out(onehot_ftrs)))'''\n"
   ]
  },
  {
   "cell_type": "code",
   "execution_count": 30,
   "id": "75d8f5d6-8e5b-445b-9853-73597cb20b92",
   "metadata": {},
   "outputs": [
    {
     "data": {
      "text/plain": [
       "\"# transform X_train\\nonehot_train = enc.transform(X_train[onehot_ftrs])\\nprint('transformed train features:')\\nprint(onehot_train)\\n# transform X_val\\nonehot_val = enc.transform(X_val[onehot_ftrs])\\nprint('transformed val features:')\\nprint(onehot_val)\\n# transform X_test\\nonehot_test = enc.transform(X_test[onehot_ftrs])\\nprint('transformed test features:')\\nprint(onehot_test)\""
      ]
     },
     "execution_count": 30,
     "metadata": {},
     "output_type": "execute_result"
    }
   ],
   "source": [
    "'''# transform X_train\n",
    "onehot_train = enc.transform(X_train[onehot_ftrs])\n",
    "print('transformed train features:')\n",
    "print(onehot_train)\n",
    "# transform X_val\n",
    "onehot_val = enc.transform(X_val[onehot_ftrs])\n",
    "print('transformed val features:')\n",
    "print(onehot_val)\n",
    "# transform X_test\n",
    "onehot_test = enc.transform(X_test[onehot_ftrs])\n",
    "print('transformed test features:')\n",
    "print(onehot_test)'''"
   ]
  },
  {
   "cell_type": "code",
   "execution_count": 31,
   "id": "3513d3a5-bc15-4c59-aad4-f81ddb83c8d4",
   "metadata": {},
   "outputs": [
    {
     "data": {
      "text/plain": [
       "'X_train_prep = preprocessor.fit_transform(X_train)\\nX_val_prep = preprocessor.transform(X_val)\\nX_test_prep = preprocessor.transform(X_test)\\n\\nprint(X_train.shape)\\nprint(X_train_prep.shape)\\nprint(X_train_prep)\\n\\nprint(X_val.shape)\\nprint(X_val_prep.shape)\\nprint(X_val_prep)\\n\\nprint(X_test.shape)\\nprint(X_test_prep.shape)\\nprint(X_test_prep)'"
      ]
     },
     "execution_count": 31,
     "metadata": {},
     "output_type": "execute_result"
    }
   ],
   "source": [
    "'''X_train_prep = preprocessor.fit_transform(X_train)\n",
    "X_val_prep = preprocessor.transform(X_val)\n",
    "X_test_prep = preprocessor.transform(X_test)\n",
    "\n",
    "print(X_train.shape)\n",
    "print(X_train_prep.shape)\n",
    "print(X_train_prep)\n",
    "\n",
    "print(X_val.shape)\n",
    "print(X_val_prep.shape)\n",
    "print(X_val_prep)\n",
    "\n",
    "print(X_test.shape)\n",
    "print(X_test_prep.shape)\n",
    "print(X_test_prep)'''"
   ]
  },
  {
   "cell_type": "code",
   "execution_count": 32,
   "id": "f47fb538-5fae-4bb7-b907-b2565d827bbf",
   "metadata": {},
   "outputs": [
    {
     "data": {
      "text/plain": [
       "\"from sklearn.preprocessing import MinMaxScaler\\nminmax_ftrs = ['age']\\nscaler = MinMaxScaler()\\nscaler.fit(X_train[minmax_ftrs])\\nprint(scaler.transform(X_train[minmax_ftrs]))\\nprint(scaler.transform(X_val[minmax_ftrs])) \\nprint(scaler.transform(X_test[minmax_ftrs])) \""
      ]
     },
     "execution_count": 32,
     "metadata": {},
     "output_type": "execute_result"
    }
   ],
   "source": [
    "'''from sklearn.preprocessing import MinMaxScaler\n",
    "minmax_ftrs = ['age']\n",
    "scaler = MinMaxScaler()\n",
    "scaler.fit(X_train[minmax_ftrs])\n",
    "print(scaler.transform(X_train[minmax_ftrs]))\n",
    "print(scaler.transform(X_val[minmax_ftrs])) \n",
    "print(scaler.transform(X_test[minmax_ftrs])) '''"
   ]
  },
  {
   "cell_type": "code",
   "execution_count": 34,
   "id": "4d04199c-20b0-4a41-ab48-fe57021e5074",
   "metadata": {},
   "outputs": [
    {
     "name": "stdout",
     "output_type": "stream",
     "text": [
      "(6385, 6)\n",
      "(6385, 24)\n",
      "[[0.         0.         0.         ... 0.         0.         0.08695652]\n",
      " [0.         0.         1.         ... 1.         0.         0.5       ]\n",
      " [0.         1.         0.         ... 0.         0.         0.34782609]\n",
      " ...\n",
      " [0.         0.         0.         ... 0.         1.         0.45652174]\n",
      " [1.         0.         0.         ... 0.         1.         0.45652174]\n",
      " [0.         0.         0.         ... 0.         0.         0.45652174]]\n",
      "(1596, 6)\n",
      "(1596, 24)\n",
      "[[0.         1.         0.         ... 0.         1.         0.45652174]\n",
      " [0.         0.         1.         ... 0.         1.         0.45652174]\n",
      " [0.         0.         0.         ... 0.         0.         0.63043478]\n",
      " ...\n",
      " [0.         0.         0.         ... 0.         0.         0.45652174]\n",
      " [0.         0.         1.         ... 0.         0.         0.45652174]\n",
      " [0.         1.         0.         ... 0.         0.         0.56521739]]\n",
      "(2019, 6)\n",
      "(2019, 6)\n",
      "[[0.         0.         1.         ... 0.         0.         0.45652174]\n",
      " [1.         0.         0.         ... 0.         1.         0.17391304]\n",
      " [0.         0.         0.         ... 0.         1.         0.02173913]\n",
      " ...\n",
      " [0.         0.         0.         ... 0.         0.         0.73913043]\n",
      " [0.         0.         0.         ... 1.         0.         0.45652174]\n",
      " [0.         1.         0.         ... 0.         0.         0.45652174]]\n"
     ]
    }
   ],
   "source": [
    "### import numpy as np\n",
    "\n",
    "from sklearn.compose import ColumnTransformer\n",
    "from sklearn.pipeline import Pipeline\n",
    "from sklearn.preprocessing import StandardScaler, OneHotEncoder, OrdinalEncoder, MinMaxScaler\n",
    "from sklearn.model_selection import train_test_split\n",
    "from sklearn.impute import SimpleImputer\n",
    "\n",
    "onehot_ftrs = ['gender', 'device_type', 'ad_position', 'browsing_history', 'time_of_day']\n",
    "minmax_ftrs = ['age']\n",
    "\n",
    "numerical_imputer = SimpleImputer(strategy='median')\n",
    "\n",
    "preprocessor = ColumnTransformer(\n",
    "    transformers=[\n",
    "        ('onehot', OneHotEncoder(sparse_output=False,handle_unknown='ignore'), onehot_ftrs),\n",
    "        ('imputer_minmax', Pipeline(steps=[('imputer', numerical_imputer), ('scaler', MinMaxScaler())]), minmax_ftrs)])\n",
    "\n",
    "clf = Pipeline(steps=[('preprocessor', preprocessor)]) # for now we only preprocess \n",
    "                                                       # later on we will add other steps here\n",
    "\n",
    "X_train_prep = clf.fit_transform(X_train)\n",
    "X_val_prep = clf.transform(X_val)\n",
    "X_test_prep = clf.transform(X_test)\n",
    "\n",
    "print(X_train.shape)\n",
    "print(X_train_prep.shape)\n",
    "print(X_train_prep)\n",
    "\n",
    "print(X_val.shape)\n",
    "print(X_val_prep.shape)\n",
    "print(X_val_prep)\n",
    "\n",
    "print(X_test.shape)\n",
    "print(X_test.shape)\n",
    "print(X_test_prep)"
   ]
  },
  {
   "cell_type": "code",
   "execution_count": 36,
   "id": "46f31412-cdfb-435e-9b65-158a04e8c7ce",
   "metadata": {},
   "outputs": [
    {
     "name": "stdout",
     "output_type": "stream",
     "text": [
      "Fraction of points with missing values: 91.84%\n",
      "Fraction of features with missing values: 66.67%\n",
      "Features with missing values and their respective fractions:\n",
      "Feature: age, Missing Values: 47.66%\n",
      "Feature: gender, Missing Values: 46.93%\n",
      "Feature: device_type, Missing Values: 20.00%\n",
      "Feature: ad_position, Missing Values: 20.00%\n",
      "Feature: browsing_history, Missing Values: 47.82%\n",
      "Feature: time_of_day, Missing Values: 20.00%\n"
     ]
    }
   ],
   "source": [
    "#missing values in print statements\n",
    "\n",
    "# Calculate the fraction of points with any missing values\n",
    "frac_missing_points = df.isnull().any(axis=1).mean()\n",
    "print(f'Fraction of points with missing values: {frac_missing_points * 100:.2f}%')\n",
    "\n",
    "# Calculate the fraction of features with missing values\n",
    "frac_features_with_missing = (df.isnull().sum() > 0).mean()\n",
    "print(f'Fraction of features with missing values: {frac_features_with_missing * 100:.2f}%')\n",
    "\n",
    "# Calculate and display specific features with missing values and their missing value fractions\n",
    "missing_values_fractions = df.isnull().sum() / len(df)\n",
    "missing_values_fractions = missing_values_fractions[missing_values_fractions > 0]\n",
    "\n",
    "print('Features with missing values and their respective fractions:')\n",
    "for feature, missing_fraction in missing_values_fractions.items():\n",
    "    print(f'Feature: {feature}, Missing Values: {missing_fraction * 100:.2f}%')\n"
   ]
  },
  {
   "cell_type": "code",
   "execution_count": 35,
   "id": "c555d9aa-c5d2-4857-a4b6-1480cca4f320",
   "metadata": {},
   "outputs": [],
   "source": [
    "#categroical then contious, then fit transfor transfor transform"
   ]
  },
  {
   "cell_type": "code",
   "execution_count": null,
   "id": "2334e009-81eb-4bda-a67a-0a9c66106b0e",
   "metadata": {},
   "outputs": [],
   "source": []
  },
  {
   "cell_type": "code",
   "execution_count": null,
   "id": "dc84c8d5-2996-47bc-b6c7-f98055aadfa5",
   "metadata": {},
   "outputs": [],
   "source": []
  },
  {
   "cell_type": "code",
   "execution_count": null,
   "id": "913457ee-44ef-42c3-b8bd-88c0d7b3c26e",
   "metadata": {},
   "outputs": [],
   "source": []
  }
 ],
 "metadata": {
  "kernelspec": {
   "display_name": "Python 3 (ipykernel)",
   "language": "python",
   "name": "python3"
  },
  "language_info": {
   "codemirror_mode": {
    "name": "ipython",
    "version": 3
   },
   "file_extension": ".py",
   "mimetype": "text/x-python",
   "name": "python",
   "nbconvert_exporter": "python",
   "pygments_lexer": "ipython3",
   "version": "3.12.5"
  }
 },
 "nbformat": 4,
 "nbformat_minor": 5
}
